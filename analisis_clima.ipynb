{
 "cells": [
  {
   "cell_type": "code",
   "execution_count": 1,
   "id": "ed929cc0-5b1c-40c5-830d-cf4ec7279924",
   "metadata": {},
   "outputs": [],
   "source": [
    "# Los registros mostrados son ficticios, este analisis es un ejercicio académico."
   ]
  },
  {
   "cell_type": "code",
   "execution_count": 110,
   "id": "faaa3b50-c6bc-4675-83c4-0004d80fbabb",
   "metadata": {},
   "outputs": [],
   "source": [
    "import pandas as pd\n",
    "import seaborn as sns\n",
    "import matplotlib.pyplot as plt\n",
    "from matplotlib.ticker import MaxNLocator"
   ]
  },
  {
   "cell_type": "code",
   "execution_count": 3,
   "id": "2a20fb1e-c989-473c-9d37-f3f1c6e41382",
   "metadata": {},
   "outputs": [],
   "source": [
    "df = pd.read_csv(\"clima_2025.csv\")"
   ]
  },
  {
   "cell_type": "code",
   "execution_count": 4,
   "id": "60e2285e-83b3-4ca8-9d88-65008b76723e",
   "metadata": {},
   "outputs": [
    {
     "name": "stdout",
     "output_type": "stream",
     "text": [
      "<class 'pandas.core.frame.DataFrame'>\n",
      "RangeIndex: 200 entries, 0 to 199\n",
      "Data columns (total 5 columns):\n",
      " #   Column            Non-Null Count  Dtype  \n",
      "---  ------            --------------  -----  \n",
      " 0   fecha             200 non-null    object \n",
      " 1   temperatura       200 non-null    float64\n",
      " 2   humedad           200 non-null    int64  \n",
      " 3   velocidad_viento  200 non-null    int64  \n",
      " 4   lluvia            200 non-null    int64  \n",
      "dtypes: float64(1), int64(3), object(1)\n",
      "memory usage: 7.9+ KB\n"
     ]
    }
   ],
   "source": [
    "df.info()"
   ]
  },
  {
   "cell_type": "code",
   "execution_count": 5,
   "id": "1b5d254c-2b64-4caa-9e6d-20150d1deca5",
   "metadata": {},
   "outputs": [
    {
     "data": {
      "text/plain": [
       "fecha                object\n",
       "temperatura         float64\n",
       "humedad               int64\n",
       "velocidad_viento      int64\n",
       "lluvia                int64\n",
       "dtype: object"
      ]
     },
     "execution_count": 5,
     "metadata": {},
     "output_type": "execute_result"
    }
   ],
   "source": [
    "df.dtypes"
   ]
  },
  {
   "cell_type": "code",
   "execution_count": 6,
   "id": "5248dc10-8f7e-468e-b99c-d5f3f9c98b27",
   "metadata": {},
   "outputs": [
    {
     "data": {
      "text/plain": [
       "(200, 5)"
      ]
     },
     "execution_count": 6,
     "metadata": {},
     "output_type": "execute_result"
    }
   ],
   "source": [
    "df.shape"
   ]
  },
  {
   "cell_type": "code",
   "execution_count": 7,
   "id": "b46d8024-c448-458e-9619-4e8119cec593",
   "metadata": {},
   "outputs": [
    {
     "data": {
      "text/html": [
       "<div>\n",
       "<style scoped>\n",
       "    .dataframe tbody tr th:only-of-type {\n",
       "        vertical-align: middle;\n",
       "    }\n",
       "\n",
       "    .dataframe tbody tr th {\n",
       "        vertical-align: top;\n",
       "    }\n",
       "\n",
       "    .dataframe thead th {\n",
       "        text-align: right;\n",
       "    }\n",
       "</style>\n",
       "<table border=\"1\" class=\"dataframe\">\n",
       "  <thead>\n",
       "    <tr style=\"text-align: right;\">\n",
       "      <th></th>\n",
       "      <th>temperatura</th>\n",
       "      <th>humedad</th>\n",
       "      <th>velocidad_viento</th>\n",
       "      <th>lluvia</th>\n",
       "    </tr>\n",
       "  </thead>\n",
       "  <tbody>\n",
       "    <tr>\n",
       "      <th>count</th>\n",
       "      <td>200.000000</td>\n",
       "      <td>200.000000</td>\n",
       "      <td>200.000000</td>\n",
       "      <td>200.000000</td>\n",
       "    </tr>\n",
       "    <tr>\n",
       "      <th>mean</th>\n",
       "      <td>21.119000</td>\n",
       "      <td>67.015000</td>\n",
       "      <td>29.915000</td>\n",
       "      <td>1.760000</td>\n",
       "    </tr>\n",
       "    <tr>\n",
       "      <th>std</th>\n",
       "      <td>6.357375</td>\n",
       "      <td>23.275168</td>\n",
       "      <td>17.960811</td>\n",
       "      <td>4.267724</td>\n",
       "    </tr>\n",
       "    <tr>\n",
       "      <th>min</th>\n",
       "      <td>4.500000</td>\n",
       "      <td>30.000000</td>\n",
       "      <td>0.000000</td>\n",
       "      <td>0.000000</td>\n",
       "    </tr>\n",
       "    <tr>\n",
       "      <th>25%</th>\n",
       "      <td>16.975000</td>\n",
       "      <td>46.000000</td>\n",
       "      <td>15.000000</td>\n",
       "      <td>0.000000</td>\n",
       "    </tr>\n",
       "    <tr>\n",
       "      <th>50%</th>\n",
       "      <td>21.050000</td>\n",
       "      <td>66.000000</td>\n",
       "      <td>29.000000</td>\n",
       "      <td>0.000000</td>\n",
       "    </tr>\n",
       "    <tr>\n",
       "      <th>75%</th>\n",
       "      <td>25.725000</td>\n",
       "      <td>86.000000</td>\n",
       "      <td>46.000000</td>\n",
       "      <td>1.000000</td>\n",
       "    </tr>\n",
       "    <tr>\n",
       "      <th>max</th>\n",
       "      <td>39.100000</td>\n",
       "      <td>120.000000</td>\n",
       "      <td>60.000000</td>\n",
       "      <td>30.000000</td>\n",
       "    </tr>\n",
       "  </tbody>\n",
       "</table>\n",
       "</div>"
      ],
      "text/plain": [
       "       temperatura     humedad  velocidad_viento      lluvia\n",
       "count   200.000000  200.000000        200.000000  200.000000\n",
       "mean     21.119000   67.015000         29.915000    1.760000\n",
       "std       6.357375   23.275168         17.960811    4.267724\n",
       "min       4.500000   30.000000          0.000000    0.000000\n",
       "25%      16.975000   46.000000         15.000000    0.000000\n",
       "50%      21.050000   66.000000         29.000000    0.000000\n",
       "75%      25.725000   86.000000         46.000000    1.000000\n",
       "max      39.100000  120.000000         60.000000   30.000000"
      ]
     },
     "execution_count": 7,
     "metadata": {},
     "output_type": "execute_result"
    }
   ],
   "source": [
    "df.describe()"
   ]
  },
  {
   "cell_type": "code",
   "execution_count": 8,
   "id": "ebe99375-1c57-46fd-a14f-587887dec062",
   "metadata": {},
   "outputs": [
    {
     "data": {
      "text/plain": [
       "15"
      ]
     },
     "execution_count": 8,
     "metadata": {},
     "output_type": "execute_result"
    }
   ],
   "source": [
    "(df['humedad'] > 100).sum()  # cantidad de humedades fuera de rango"
   ]
  },
  {
   "cell_type": "code",
   "execution_count": 9,
   "id": "d414d3a0-8808-48f8-8ee5-1007efb0dcde",
   "metadata": {},
   "outputs": [
    {
     "name": "stdout",
     "output_type": "stream",
     "text": [
      "                   fecha  temperatura  humedad  velocidad_viento  lluvia\n",
      "27   2025-06-03 05:08:43         13.7      120                 7       0\n",
      "47   2025-08-14 23:01:39         20.3      105                27       0\n",
      "48   2025-05-12 20:32:46         25.4      103                41       0\n",
      "57   2025-01-22 15:42:08         27.9      103                25       0\n",
      "82   2025-09-13 03:26:36         22.4      117                48       1\n",
      "93   2025-01-01 13:36:24         26.7      118                22       0\n",
      "103  2025-05-02 12:35:46         15.2      103                 6       0\n",
      "116  2025-08-26 13:16:45         12.9      113                50       1\n",
      "130  2025-05-29 02:42:12         28.4      107                24       2\n",
      "135  2025-04-09 12:10:17         18.8      107                 3       0\n",
      "170  2025-02-20 00:37:32         30.0      114                 5       0\n",
      "176  2025-06-16 10:55:04         15.6      110                10       1\n",
      "180  2025-05-14 02:49:22         28.2      112                54       0\n",
      "198  2025-03-08 06:26:10         26.2      118                 5       0\n",
      "199  2025-07-19 00:08:16         16.1      102                53       0\n"
     ]
    }
   ],
   "source": [
    "# Mostrar filas donde humedad > 100\n",
    "valores_fuera_rango = df[df['humedad'] > 100]\n",
    "print(valores_fuera_rango)"
   ]
  },
  {
   "cell_type": "code",
   "execution_count": 10,
   "id": "e12fe2dc-780f-4ee1-bf59-11878a319bb6",
   "metadata": {},
   "outputs": [],
   "source": [
    "# Reemplazamos los valores donde la humedad es > 100 con 100 , ya que sería incorrecto:\n",
    "df.loc[df['humedad'] > 100, 'humedad'] = 100"
   ]
  },
  {
   "cell_type": "code",
   "execution_count": 11,
   "id": "d2b871aa-fbd8-4841-8595-96f434107a00",
   "metadata": {},
   "outputs": [
    {
     "data": {
      "text/plain": [
       "0"
      ]
     },
     "execution_count": 11,
     "metadata": {},
     "output_type": "execute_result"
    }
   ],
   "source": [
    "(df['humedad'] > 100).sum()  # Vemos que ya no hay humedad fuera de rango."
   ]
  },
  {
   "cell_type": "code",
   "execution_count": 12,
   "id": "88829ce0-2906-4530-bde5-d5acf91d5ace",
   "metadata": {},
   "outputs": [
    {
     "data": {
      "text/plain": [
       "fecha               0\n",
       "temperatura         0\n",
       "humedad             0\n",
       "velocidad_viento    0\n",
       "lluvia              0\n",
       "dtype: int64"
      ]
     },
     "execution_count": 12,
     "metadata": {},
     "output_type": "execute_result"
    }
   ],
   "source": [
    "df.isnull().sum() # No hay valores nulos"
   ]
  },
  {
   "cell_type": "code",
   "execution_count": 13,
   "id": "6c11da82-5e3e-4970-97cc-c3b89b918cba",
   "metadata": {},
   "outputs": [
    {
     "data": {
      "text/plain": [
       "('2025-01-01 12:06:25', '2025-09-16 22:53:47')"
      ]
     },
     "execution_count": 13,
     "metadata": {},
     "output_type": "execute_result"
    }
   ],
   "source": [
    "# Observamos desde donde hasta cuando hay registros: \n",
    "df['fecha'].min(), df['fecha'].max()"
   ]
  },
  {
   "cell_type": "code",
   "execution_count": 14,
   "id": "24136984-cad6-4e48-ba87-4a85018afac9",
   "metadata": {},
   "outputs": [
    {
     "data": {
      "text/plain": [
       "fecha\n",
       "2025-01-01 12:06:25    1\n",
       "2025-01-01 13:36:24    1\n",
       "2025-01-01 16:58:07    1\n",
       "2025-01-02 04:42:35    1\n",
       "2025-01-04 03:30:36    1\n",
       "                      ..\n",
       "2025-09-14 20:25:25    1\n",
       "2025-09-15 20:02:16    1\n",
       "2025-09-16 00:53:45    1\n",
       "2025-09-16 12:13:55    1\n",
       "2025-09-16 22:53:47    1\n",
       "Name: count, Length: 200, dtype: int64"
      ]
     },
     "execution_count": 14,
     "metadata": {},
     "output_type": "execute_result"
    }
   ],
   "source": [
    "df['fecha'].value_counts().sort_index()"
   ]
  },
  {
   "cell_type": "code",
   "execution_count": 15,
   "id": "59cc9fd2-01d1-44a8-9cac-45e85fd4c696",
   "metadata": {},
   "outputs": [
    {
     "data": {
      "image/png": "[encoded data removed]",
      "text/plain": [
       "<Figure size 640x480 with 1 Axes>"
      ]
     },
     "metadata": {},
     "output_type": "display_data"
    }
   ],
   "source": [
    "# Convertir la columna Fecha que es object a datetime\n",
    "df['fecha'] = pd.to_datetime(df['fecha'], errors='coerce')\n",
    "\n",
    "# Creamos una columna mes:\n",
    "df['mes'] = df['fecha'].dt.month\n",
    "\n",
    "# Contar registros por mes\n",
    "registros_por_mes = df['mes'].value_counts().sort_index()\n",
    "\n",
    "# Graficar\n",
    "import matplotlib.pyplot as plt\n",
    "\n",
    "registros_por_mes.plot(kind='bar')\n",
    "plt.xlabel('Mes')\n",
    "plt.ylabel('Cantidad de registros')\n",
    "plt.title('Registros de clima por mes')\n",
    "plt.show()\n"
   ]
  },
  {
   "cell_type": "code",
   "execution_count": 16,
   "id": "889d49ff-04da-4f5c-8400-488d7a76f58a",
   "metadata": {},
   "outputs": [
    {
     "name": "stdout",
     "output_type": "stream",
     "text": [
      "fecha\n",
      "1    28\n",
      "2    21\n",
      "3    23\n",
      "4    16\n",
      "5    26\n",
      "6    22\n",
      "7    21\n",
      "8    24\n",
      "9    19\n",
      "Name: count, dtype: int64\n"
     ]
    }
   ],
   "source": [
    "registros_por_mes = df['fecha'].dt.month.value_counts().sort_index()\n",
    "print(registros_por_mes)"
   ]
  },
  {
   "cell_type": "markdown",
   "id": "759fc090-9727-4492-aa58-807d871d3e4e",
   "metadata": {},
   "source": [
    "<h4> Temperatura promedio de cada mes: </h4>"
   ]
  },
  {
   "cell_type": "code",
   "execution_count": 17,
   "id": "0f21393c-33ea-44a6-a356-c2b0c6f90f8e",
   "metadata": {},
   "outputs": [],
   "source": [
    "temperatura_promedio = df.groupby('mes')['temperatura'].mean()"
   ]
  },
  {
   "cell_type": "code",
   "execution_count": 18,
   "id": "fa9e36a2-cbf4-4638-b4bf-c1ce6c5938aa",
   "metadata": {},
   "outputs": [
    {
     "name": "stdout",
     "output_type": "stream",
     "text": [
      "mes\n",
      "1    27.960714\n",
      "2    27.880952\n",
      "3    21.647826\n",
      "4    21.243750\n",
      "5    22.869231\n",
      "6    14.709091\n",
      "7    15.580952\n",
      "8    16.479167\n",
      "9    19.826316\n",
      "Name: temperatura, dtype: float64\n"
     ]
    }
   ],
   "source": [
    "print(temperatura_promedio)"
   ]
  },
  {
   "cell_type": "markdown",
   "id": "9af1c540-2419-4959-a48a-160580760077",
   "metadata": {},
   "source": [
    "<h4>Temperatura máxima de cada mes: </h4>"
   ]
  },
  {
   "cell_type": "code",
   "execution_count": 19,
   "id": "4724d333-c2fd-480d-a867-1c6d44e7dc30",
   "metadata": {},
   "outputs": [
    {
     "name": "stdout",
     "output_type": "stream",
     "text": [
      "mes\n",
      "1    39.1\n",
      "2    33.6\n",
      "3    26.7\n",
      "4    29.9\n",
      "5    29.7\n",
      "6    23.9\n",
      "7    24.8\n",
      "8    24.0\n",
      "9    32.2\n",
      "Name: temperatura, dtype: float64\n"
     ]
    }
   ],
   "source": [
    "temp_max = df.groupby('mes')['temperatura'].max()\n",
    "print(temp_max)"
   ]
  },
  {
   "cell_type": "markdown",
   "id": "c5431fb9-19ac-4ad9-ad70-e6582598f3f0",
   "metadata": {},
   "source": [
    "<h4>Temperatura mínima de cada mes: </h4>"
   ]
  },
  {
   "cell_type": "code",
   "execution_count": 20,
   "id": "b1e60ae9-04c0-476f-9911-ddca64d7e90c",
   "metadata": {},
   "outputs": [
    {
     "name": "stdout",
     "output_type": "stream",
     "text": [
      "mes\n",
      "1    18.7\n",
      "2    20.2\n",
      "3    14.5\n",
      "4    14.0\n",
      "5    14.2\n",
      "6     4.5\n",
      "7     8.5\n",
      "8     5.3\n",
      "9    12.3\n",
      "Name: temperatura, dtype: float64\n"
     ]
    }
   ],
   "source": [
    "temp_min = df.groupby('mes')['temperatura'].min()\n",
    "print(temp_min)"
   ]
  },
  {
   "cell_type": "markdown",
   "id": "097a2333-ad54-43fc-a97a-bf31b7d272f1",
   "metadata": {},
   "source": [
    "<h4>Lluvia por cada mes: </h4>"
   ]
  },
  {
   "cell_type": "code",
   "execution_count": 21,
   "id": "52514dca-e4b0-4755-b83d-f65b6dbecf67",
   "metadata": {},
   "outputs": [
    {
     "name": "stdout",
     "output_type": "stream",
     "text": [
      "                  fecha  temperatura  humedad  velocidad_viento  lluvia  mes\n",
      "166 2025-01-29 18:06:53         28.9       61                32      10    1\n",
      "104 2025-02-25 07:54:10         30.6       32                 2       2    2\n",
      "24  2025-03-08 11:17:46         25.6       82                10      15    3\n",
      "118 2025-04-03 10:53:24         14.0       70                24       5    4\n",
      "129 2025-05-28 18:22:56         20.1       98                43      15    5\n",
      "115 2025-06-30 11:39:34         12.7       89                34      20    6\n",
      "162 2025-07-20 10:59:11         20.9       74                44      30    7\n",
      "39  2025-08-22 17:24:40         15.6       46                49      20    8\n",
      "36  2025-09-15 20:02:16         15.9       47                26      10    9\n"
     ]
    }
   ],
   "source": [
    "dia_mas_lluvioso = df.loc[df.groupby('mes')['lluvia'].idxmax()]\n",
    "print(dia_mas_lluvioso)"
   ]
  },
  {
   "cell_type": "code",
   "execution_count": 22,
   "id": "1531e608-9409-45c3-9228-195600f5b2e0",
   "metadata": {},
   "outputs": [
    {
     "name": "stdout",
     "output_type": "stream",
     "text": [
      "     mes               fecha  lluvia\n",
      "166    1 2025-01-29 18:06:53      10\n",
      "104    2 2025-02-25 07:54:10       2\n",
      "24     3 2025-03-08 11:17:46      15\n",
      "118    4 2025-04-03 10:53:24       5\n",
      "129    5 2025-05-28 18:22:56      15\n",
      "115    6 2025-06-30 11:39:34      20\n",
      "162    7 2025-07-20 10:59:11      30\n",
      "39     8 2025-08-22 17:24:40      20\n",
      "36     9 2025-09-15 20:02:16      10\n"
     ]
    }
   ],
   "source": [
    "print(dia_mas_lluvioso[['mes','fecha','lluvia']])"
   ]
  },
  {
   "cell_type": "code",
   "execution_count": 23,
   "id": "3654350b-f3a6-4b52-b9af-643537188560",
   "metadata": {},
   "outputs": [
    {
     "data": {
      "image/png": "[encoded data removed]",
      "text/plain": [
       "<Figure size 1000x600 with 1 Axes>"
      ]
     },
     "metadata": {},
     "output_type": "display_data"
    }
   ],
   "source": [
    "plt.figure(figsize=(10,6))\n",
    "plt.bar(dia_mas_lluvioso['mes'], dia_mas_lluvioso['lluvia'], color='orange')\n",
    "\n",
    "# Etiquetas con fecha\n",
    "plt.xticks(dia_mas_lluvioso['mes'], dia_mas_lluvioso['fecha'].dt.strftime('%d-%m'), rotation=45)\n",
    "plt.xlabel('Fecha (día-mes)')\n",
    "plt.ylabel('Lluvia máxima (mm)')\n",
    "plt.title('Día más lluvioso de cada mes')\n",
    "plt.show()"
   ]
  },
  {
   "cell_type": "markdown",
   "id": "dd10d7ce-e7a1-4d62-9b92-3b71da3f98ad",
   "metadata": {},
   "source": [
    "<h3>Podemos observar que el mes más lluvioso según los registros fue el mes de JULIO , mientras que el mes que menos llovió fue en el mes de FEBRERO.</h3>"
   ]
  },
  {
   "cell_type": "markdown",
   "id": "0a58ec50-8e5c-47db-865b-1dbb7d8abce2",
   "metadata": {},
   "source": [
    "<h4>Humedad promedio mensual </h4>"
   ]
  },
  {
   "cell_type": "code",
   "execution_count": 69,
   "id": "4815748b-d9a4-45fb-8b44-c5b7e023fad0",
   "metadata": {},
   "outputs": [
    {
     "name": "stdout",
     "output_type": "stream",
     "text": [
      "mes\n",
      "1    61.857143\n",
      "2    60.523810\n",
      "3    67.521739\n",
      "4    69.062500\n",
      "5    69.538462\n",
      "6    75.500000\n",
      "7    69.000000\n",
      "8    60.750000\n",
      "9    63.894737\n",
      "Name: humedad, dtype: float64\n"
     ]
    }
   ],
   "source": [
    "temperatura_promedio = df.groupby('mes')['humedad'].mean()\n",
    "print(temperatura_promedio)"
   ]
  },
  {
   "cell_type": "code",
   "execution_count": 79,
   "id": "33ddc6c6-62b7-446c-8630-c429a80e8a93",
   "metadata": {},
   "outputs": [
    {
     "name": "stdout",
     "output_type": "stream",
     "text": [
      "mes\n",
      "1     7\n",
      "2     3\n",
      "3     8\n",
      "4     2\n",
      "5    11\n",
      "6    18\n",
      "7    13\n",
      "8    14\n",
      "9     7\n",
      "Name: fecha, dtype: int64\n"
     ]
    }
   ],
   "source": [
    "# Cuantos días llovieron en cada mes:\n",
    "df_lluvia = df[df['lluvia'] > 0]\n",
    "\n",
    "# Contar cantidad de días lluviosos por mes\n",
    "dias_lluviosos_por_mes = df_lluvia.groupby('mes')['fecha'].nunique()\n",
    "print(dias_lluviosos_por_mes)"
   ]
  },
  {
   "cell_type": "code",
   "execution_count": 114,
   "id": "75c5244a-f711-4d1d-8864-740b8188ebee",
   "metadata": {},
   "outputs": [
    {
     "data": {
      "image/png": "[encoded data removed]",
      "text/plain": [
       "<Figure size 1000x500 with 1 Axes>"
      ]
     },
     "metadata": {},
     "output_type": "display_data"
    }
   ],
   "source": [
    "plt.figure(figsize=(10,5))\n",
    "ax = dias_lluviosos_por_mes.plot(kind='bar', color='green')\n",
    "plt.title(\"Cantidad de días lluviosos por mes\")\n",
    "plt.xlabel(\"Mes\")\n",
    "plt.ylabel(\"Días lluviosos\")\n",
    "plt.xticks(rotation=0)\n",
    "\n",
    "ax.yaxis.set_major_locator(MaxNLocator(integer=True))\n",
    "\n",
    "plt.show()"
   ]
  },
  {
   "cell_type": "markdown",
   "id": "9a6ad26b-66ed-45ef-858e-396344bce051",
   "metadata": {},
   "source": [
    "<h3> Podemos observar que en junio se registraron más días con lluvia que en cualquier otro mes; sin embargo, en el gráfico anterior se aprecia que el mes con mayor cantidad de lluvia acumulada en milímetros fue julio (mes 7).</h3>"
   ]
  },
  {
   "cell_type": "code",
   "execution_count": 87,
   "id": "31b10b6b-40fc-4ae9-b193-6c0516e91109",
   "metadata": {},
   "outputs": [
    {
     "name": "stdout",
     "output_type": "stream",
     "text": [
      "fecha               2025-01-07 12:51:25\n",
      "temperatura                        39.1\n",
      "humedad                              32\n",
      "velocidad_viento                     60\n",
      "lluvia                                0\n",
      "mes                                   1\n",
      "Name: 76, dtype: object\n"
     ]
    }
   ],
   "source": [
    "# Vemos si el dia mas caluroso llovió o tuvo mucha humedad:\n",
    "# Encontrar el día con la temperatura máxima\n",
    "dia_mas_caluroso = df.loc[df['temperatura'].idxmax()]\n",
    "print(dia_mas_caluroso)"
   ]
  },
  {
   "cell_type": "markdown",
   "id": "6a505dfd-d256-4af8-8c7b-4a3ec957bb35",
   "metadata": {},
   "source": [
    "<b> Él día más caluroso fue en el mes de enero (1) , tuvo una humedad del 32 % (baja) y no hubo lluvia. </b>"
   ]
  },
  {
   "cell_type": "code",
   "execution_count": 96,
   "id": "3020fa46-2490-476c-a91d-82bdf9fb795d",
   "metadata": {},
   "outputs": [
    {
     "name": "stdout",
     "output_type": "stream",
     "text": [
      "fecha               2025-06-20 15:35:08\n",
      "temperatura                         4.5\n",
      "humedad                              34\n",
      "velocidad_viento                     40\n",
      "lluvia                                1\n",
      "mes                                   6\n",
      "Name: 153, dtype: object\n"
     ]
    }
   ],
   "source": [
    "# Buscamos el dia mas frío del año:\n",
    "dia_mas_frio = df.loc[df['temperatura'].idxmin()]\n",
    "print(dia_mas_frio)"
   ]
  },
  {
   "cell_type": "markdown",
   "id": "edd6cdf0-59c8-4553-9022-8f34a9c25e17",
   "metadata": {},
   "source": [
    "<b> Él día más frío fue en el mes de Junio (6) , tuvo una humedad del 34 % (baja) y hubo lluvia. </b>"
   ]
  },
  {
   "cell_type": "code",
   "execution_count": null,
   "id": "a8329194-96c9-4c43-9db2-fcab6e53a993",
   "metadata": {},
   "outputs": [],
   "source": [
    "# Lluvia acumulada desde el mes de enero hasta el 18 de septiembre:"
   ]
  },
  {
   "cell_type": "code",
   "execution_count": 102,
   "id": "a91c45dd-4924-46b5-8d38-4f852606f631",
   "metadata": {},
   "outputs": [],
   "source": [
    "lluvia_acumulada = df['lluvia'].sum()"
   ]
  },
  {
   "cell_type": "code",
   "execution_count": 104,
   "id": "70cd2577-7bb0-48ad-8cc0-99a374a5b97d",
   "metadata": {},
   "outputs": [
    {
     "name": "stdout",
     "output_type": "stream",
     "text": [
      "352\n"
     ]
    }
   ],
   "source": [
    "print(lluvia_acumulada)"
   ]
  },
  {
   "cell_type": "markdown",
   "id": "83e5d7d0-fc14-46ed-b981-98244019fbe5",
   "metadata": {},
   "source": [
    "<h4>Definimos una matriz de correlación para observar como se relacionan las variables: </h4>"
   ]
  },
  {
   "cell_type": "code",
   "execution_count": 25,
   "id": "54d7e2c2-dd05-4450-9558-5dca13bb0e5c",
   "metadata": {},
   "outputs": [
    {
     "data": {
      "image/png": "[encoded data removed]",
      "text/plain": [
       "<Figure size 800x600 with 2 Axes>"
      ]
     },
     "metadata": {},
     "output_type": "display_data"
    }
   ],
   "source": [
    "corr = df.corr()\n",
    "\n",
    "# Graficar mapa de calor de correlaciones\n",
    "plt.figure(figsize=(8,6))\n",
    "sns.heatmap(corr, annot=True, fmt=\".2f\", cmap=\"coolwarm\", cbar_kws={'label': 'Correlación'})\n",
    "plt.title(\"Mapa de correlación de variables del clima\")\n",
    "plt.show()"
   ]
  },
  {
   "cell_type": "code",
   "execution_count": 106,
   "id": "00a87ca8-6123-48db-978b-fc96eb4c1924",
   "metadata": {},
   "outputs": [
    {
     "name": "stdout",
     "output_type": "stream",
     "text": [
      "<class 'pandas.core.frame.DataFrame'>\n",
      "RangeIndex: 200 entries, 0 to 199\n",
      "Data columns (total 6 columns):\n",
      " #   Column            Non-Null Count  Dtype         \n",
      "---  ------            --------------  -----         \n",
      " 0   fecha             200 non-null    datetime64[ns]\n",
      " 1   temperatura       200 non-null    float64       \n",
      " 2   humedad           200 non-null    int64         \n",
      " 3   velocidad_viento  200 non-null    int64         \n",
      " 4   lluvia            200 non-null    int64         \n",
      " 5   mes               200 non-null    int32         \n",
      "dtypes: datetime64[ns](1), float64(1), int32(1), int64(3)\n",
      "memory usage: 8.7 KB\n"
     ]
    }
   ],
   "source": [
    "df.info()"
   ]
  }
 ],
 "metadata": {
  "kernelspec": {
   "display_name": "Python [conda env:base] *",
   "language": "python",
   "name": "conda-base-py"
  },
  "language_info": {
   "codemirror_mode": {
    "name": "ipython",
    "version": 3
   },
   "file_extension": ".py",
   "mimetype": "text/x-python",
   "name": "python",
   "nbconvert_exporter": "python",
   "pygments_lexer": "ipython3",
   "version": "3.12.7"
  }
 },
 "nbformat": 4,
 "nbformat_minor": 5
}
